{
  "nbformat": 4,
  "nbformat_minor": 0,
  "metadata": {
    "colab": {
      "provenance": [],
      "gpuType": "T4"
    },
    "kernelspec": {
      "name": "python3",
      "display_name": "Python 3"
    },
    "language_info": {
      "name": "python"
    },
    "accelerator": "GPU"
  },
  "cells": [
    {
      "cell_type": "code",
      "execution_count": null,
      "metadata": {
        "id": "upxvL_8oveIY"
      },
      "outputs": [],
      "source": [
        "import os\n",
        "import torch\n",
        "import torchvision.transforms as transforms\n",
        "import torch.nn as nn\n",
        "import torch.optim as optim\n",
        "from torchvision import datasets\n",
        "from google.colab import drive"
      ]
    },
    {
      "cell_type": "code",
      "source": [
        "# Mount Google Drive\n",
        "drive.mount('/content/gdrive')"
      ],
      "metadata": {
        "colab": {
          "base_uri": "https://localhost:8080/"
        },
        "id": "0Sml85_mzx3r",
        "outputId": "b6f98639-6ea7-491d-f37b-56bd1c6a9ad9"
      },
      "execution_count": null,
      "outputs": [
        {
          "output_type": "stream",
          "name": "stdout",
          "text": [
            "Mounted at /content/gdrive\n"
          ]
        }
      ]
    },
    {
      "cell_type": "code",
      "source": [
        "#transformations for data augmentation and normalization\n",
        "transform = transforms.Compose([\n",
        "    transforms.Resize((224, 224)),\n",
        "    transforms.RandomHorizontalFlip(),\n",
        "    transforms.ToTensor(),\n",
        "    transforms.Normalize(mean=[0.485, 0.456, 0.406], std=[0.229, 0.224, 0.225])\n",
        "])"
      ],
      "metadata": {
        "id": "lybHdJTJMxLV"
      },
      "execution_count": null,
      "outputs": []
    },
    {
      "cell_type": "code",
      "source": [
        "#dataset 120 extraction\n",
        "import zipfile\n",
        "import os\n",
        "\n",
        "#Abnormal\n",
        "ZIP_PATH_ABNORMAL_120 = \"/content/gdrive/MyDrive/120-20231125T140612Z-001.zip\"\n",
        "IMAGE_FOLDER_ABNORMAL_120 = \"/content/gdrive/MyDrive/GasHisDB/120\"\n",
        "\n",
        "if not os.path.exists(IMAGE_FOLDER_ABNORMAL_120):\n",
        "    os.makedirs(IMAGE_FOLDER_ABNORMAL_120)\n",
        "\n",
        "with zipfile.ZipFile(ZIP_PATH_ABNORMAL_120, 'r') as zip_ref:\n",
        "    for file_info in zip_ref.infolist():\n",
        "        print(f\"Extracting: {file_info.filename}\")\n",
        "        zip_ref.extract(file_info, path=IMAGE_FOLDER_ABNORMAL_120)"
      ],
      "metadata": {
        "id": "3uEVjHXlFoql"
      },
      "execution_count": null,
      "outputs": []
    },
    {
      "cell_type": "code",
      "source": [
        "import os\n",
        "from sklearn.model_selection import train_test_split\n",
        "import shutil\n",
        "\n",
        "# Path to the folder containing the data\n",
        "data_folder = '/content/gdrive/MyDrive/GasHisDB/120/120/Abnormal'\n",
        "\n",
        "# List all files in the folder\n",
        "file_list = os.listdir(data_folder)\n",
        "\n",
        "# Splitting the data into train and test sets\n",
        "train_files, test_files = train_test_split(file_list, test_size=0.3, shuffle=True, random_state=42)\n",
        "\n",
        "# Create folders for train and test sets if they don't exist\n",
        "train_folder = '/content/gdrive/MyDrive/GasHisDB/120_dataset/Train/Abnormal'\n",
        "test_folder = '/content/gdrive/MyDrive/GasHisDB/120_dataset/Test/Abnormal'\n",
        "\n",
        "os.makedirs(train_folder, exist_ok=True)\n",
        "os.makedirs(test_folder, exist_ok=True)\n",
        "\n",
        "# Copy files to train folder\n",
        "for file in train_files:\n",
        "    src_path = os.path.join(data_folder, file)\n",
        "    dest_path = os.path.join(train_folder, file)\n",
        "    shutil.copy(src_path, dest_path)\n",
        "\n",
        "# Copy files to test folder\n",
        "for file in test_files:\n",
        "    src_path = os.path.join(data_folder, file)\n",
        "    dest_path = os.path.join(test_folder, file)\n",
        "    shutil.copy(src_path, dest_path)"
      ],
      "metadata": {
        "id": "efutllSM-NnO"
      },
      "execution_count": null,
      "outputs": []
    },
    {
      "cell_type": "code",
      "source": [
        "# Define paths to the train and test data folders in your Google Drive\n",
        "train_data = '/content/gdrive/MyDrive/GasHisDB/120_dataset/Train'\n",
        "test_data = '/content/gdrive/MyDrive/GasHisDB/120_dataset/Test'"
      ],
      "metadata": {
        "id": "meub83myurfT"
      },
      "execution_count": null,
      "outputs": []
    },
    {
      "cell_type": "code",
      "source": [
        "# Load the datasets from Google Drive\n",
        "train_dataset = datasets.ImageFolder(train_data, transform=transform)\n",
        "test_dataset = datasets.ImageFolder(test_data, transform=transform)\n",
        "\n",
        "# Create data loaders\n",
        "train_loader = torch.utils.data.DataLoader(train_dataset, batch_size=32, shuffle=True)\n",
        "test_loader = torch.utils.data.DataLoader(test_dataset, batch_size=32, shuffle=False)"
      ],
      "metadata": {
        "id": "3YZ-ia3kVlpe"
      },
      "execution_count": null,
      "outputs": []
    },
    {
      "cell_type": "code",
      "source": [
        "device = torch.device(\"cuda\" if torch.cuda.is_available() else \"cpu\")\n",
        "print(torch.cuda.get_device_name(device))\n",
        "print(torch.cuda.get_device_properties(device))"
      ],
      "metadata": {
        "colab": {
          "base_uri": "https://localhost:8080/"
        },
        "id": "1Td7O2LmXPni",
        "outputId": "bad47131-a6c0-4184-c243-4d57ba70791d"
      },
      "execution_count": null,
      "outputs": [
        {
          "output_type": "stream",
          "name": "stdout",
          "text": [
            "Tesla T4\n",
            "_CudaDeviceProperties(name='Tesla T4', major=7, minor=5, total_memory=15101MB, multi_processor_count=40)\n"
          ]
        }
      ]
    },
    {
      "cell_type": "code",
      "source": [
        "# CNN model\n",
        "class CNN(nn.Module):\n",
        "    def __init__(self, num_classes=2):\n",
        "        super(CNN, self).__init__()\n",
        "        self.features = nn.Sequential(\n",
        "            nn.Conv2d(3, 64, kernel_size=3, padding=1),\n",
        "            nn.ReLU(),\n",
        "            nn.MaxPool2d(kernel_size=2, stride=2),\n",
        "            nn.Conv2d(64, 128, kernel_size=3, padding=1),\n",
        "            nn.ReLU(),\n",
        "            nn.MaxPool2d(kernel_size=2, stride=2),\n",
        "        )\n",
        "        self.classifier = nn.Sequential(\n",
        "            nn.Linear(128 * 56 * 56, 512),\n",
        "            nn.ReLU(),\n",
        "            nn.Linear(512, num_classes)\n",
        "        )\n",
        "    def forward(self, x):\n",
        "        x = self.features(x)\n",
        "        x = x.view(x.size(0), -1)\n",
        "        x = self.classifier(x)\n",
        "        return x"
      ],
      "metadata": {
        "id": "aVgH7kY9lzli"
      },
      "execution_count": null,
      "outputs": []
    },
    {
      "cell_type": "code",
      "source": [
        "# Instance of the CNN model\n",
        "model = CNN(num_classes=len(train_dataset.classes))\n",
        "\n",
        "# Loss function and optimizer\n",
        "criterion = nn.BCELoss()\n",
        "optimizer = optim.Adam(model.parameters(), lr=0.01)"
      ],
      "metadata": {
        "id": "LnkwtgfTmCbl"
      },
      "execution_count": null,
      "outputs": []
    },
    {
      "cell_type": "code",
      "source": [
        "import torch\n",
        "import os\n",
        "\n",
        "# Directory to save model checkpoints\n",
        "checkpoint_dir = '/content/gdrive/MyDrive/GasHisDB/CNN_120_Checkpoints'\n",
        "os.makedirs(checkpoint_dir, exist_ok=True)\n",
        "\n",
        "# Your training loop\n",
        "num_epochs = 10\n",
        "for epoch in range(num_epochs):\n",
        "    model.train()\n",
        "    for inputs, labels in train_loader:\n",
        "        optimizer.zero_grad()\n",
        "        outputs = model(inputs)\n",
        "        loss = criterion(outputs, labels)\n",
        "        loss.backward()\n",
        "        optimizer.step()\n",
        "\n",
        "    print(f\"Epoch [{epoch+1}/{num_epochs}] - Loss: {loss.item():.4f}\")\n",
        "\n",
        "    # After each epoch, save the model checkpoint\n",
        "    model_checkpoint_path = os.path.join(checkpoint_dir, f'model_epoch_{epoch+1}.pt')\n",
        "    torch.save(model.state_dict(), model_checkpoint_path)\n"
      ],
      "metadata": {
        "id": "m3UIV2NqoiBN"
      },
      "execution_count": null,
      "outputs": []
    },
    {
      "cell_type": "code",
      "source": [
        "# Evaluate the model on the test data\n",
        "model.eval()\n",
        "correct = 0\n",
        "total = 0\n",
        "with torch.no_grad():\n",
        "    for inputs, labels in test_loader:\n",
        "        outputs = model(inputs)\n",
        "        _, predicted = torch.max(outputs.data, 1)\n",
        "        total += labels.size(0)\n",
        "        correct += (predicted == labels).sum().item()\n",
        "\n",
        "print(f\"Test Accuracy: {(correct/total)*100:.2f}%\")"
      ],
      "metadata": {
        "id": "h85Fdj3wb4oT"
      },
      "execution_count": null,
      "outputs": []
    },
    {
      "cell_type": "code",
      "source": [
        "# Path to your .pt model file\n",
        "checkpoint_path = '/content/gdrive/MyDrive/GasHisDB/CNN_120_Checkpoints/model_epoch_3.pt'\n",
        "\n",
        "# Instantiate the model\n",
        "model = CNN()\n",
        "\n",
        "# Load the state dictionary and map it to the appropriate device\n",
        "state_dict = torch.load(checkpoint_path, map_location=torch.device(\"cpu\"))\n",
        "\n",
        "# Load the state dictionary into the model\n",
        "model.load_state_dict(state_dict)\n",
        "\n",
        "# Move the model to the appropriate device (CPU or GPU)\n",
        "device = torch.device(\"cuda\" if torch.cuda.is_available() else \"cpu\")\n",
        "model.to(device)\n",
        "model.eval()\n",
        "\n",
        "# Set the model to evaluation mode\n",
        "model.eval()\n",
        "# Evaluate the model on the test data\n",
        "correct = 0\n",
        "total = 0\n",
        "with torch.no_grad():\n",
        "    for inputs, labels in test_loader:\n",
        "        inputs, labels = inputs.to(device), labels.to(device)\n",
        "        outputs = model(inputs)\n",
        "        _, predicted = torch.max(outputs.data, 1)\n",
        "        total += labels.size(0)\n",
        "        correct += (predicted == labels).sum().item()\n",
        "\n",
        "accuracy = (correct / total) * 100\n",
        "print(f\"Model Test Accuracy: {accuracy:.2f}%\")\n"
      ],
      "metadata": {
        "colab": {
          "base_uri": "https://localhost:8080/"
        },
        "id": "QnqYcJI_f7-f",
        "outputId": "aa485e17-ff9f-4b70-babc-a6ebcb6e831b"
      },
      "execution_count": null,
      "outputs": [
        {
          "output_type": "stream",
          "name": "stdout",
          "text": [
            "Model Test Accuracy: 75.23%\n"
          ]
        }
      ]
    },
    {
      "cell_type": "code",
      "source": [
        "from sklearn.metrics import confusion_matrix\n",
        "import matplotlib.pyplot as plt\n",
        "import numpy as np\n",
        "\n",
        "model.eval()\n",
        "predicted_labels = []\n",
        "true_labels = []\n",
        "\n",
        "with torch.no_grad():\n",
        "    for inputs, labels in test_loader:\n",
        "        outputs = model(inputs)\n",
        "        _, predicted = torch.max(outputs.data, 1)\n",
        "        predicted_labels.extend(predicted.cpu().numpy())\n",
        "        true_labels.extend(labels.cpu().numpy())\n",
        "\n",
        "# Compute and plot confusion matrix\n",
        "confusion_mat = confusion_matrix(true_labels, predicted_labels)\n",
        "\n",
        "# Plot confusion matrix\n",
        "classes = train_dataset.classes\n",
        "plt.figure(figsize=(len(classes), len(classes)))\n",
        "plt.imshow(confusion_mat, interpolation='nearest', cmap=plt.cm.Blues)\n",
        "plt.title('Confusion Matrix')\n",
        "plt.colorbar()\n",
        "tick_marks = np.arange(len(classes))\n",
        "plt.xticks(tick_marks, classes, rotation=45)\n",
        "plt.yticks(tick_marks, classes)\n",
        "plt.xlabel('Predicted Label')\n",
        "plt.ylabel('True Label')\n",
        "plt.show()\n"
      ],
      "metadata": {
        "colab": {
          "base_uri": "https://localhost:8080/",
          "height": 286
        },
        "id": "TKfJVetcUy_i",
        "outputId": "5138d15f-c022-4f4f-ef73-e4e29a5b1ad9"
      },
      "execution_count": null,
      "outputs": [
        {
          "output_type": "stream",
          "name": "stdout",
          "text": [
            "Test Accuracy: 75.23%\n"
          ]
        },
        {
          "output_type": "display_data",
          "data": {
            "text/plain": [
              "<Figure size 200x200 with 2 Axes>"
            ],
            "image/png": "[encoded data removed]"
          },
          "metadata": {}
        }
      ]
    }
  ]
}